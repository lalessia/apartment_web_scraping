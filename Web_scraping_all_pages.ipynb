{
 "cells": [
  {
   "cell_type": "code",
   "execution_count": 35,
   "id": "a16c95b0-0a1a-46af-8c68-34f8ee6b1e35",
   "metadata": {},
   "outputs": [],
   "source": [
    "from bs4 import BeautifulSoup\n",
    "import pandas as pd\n",
    "import requests"
   ]
  },
  {
   "cell_type": "code",
   "execution_count": 36,
   "id": "8d4c11a4-dd96-41bc-ae23-9b12b8d3b16f",
   "metadata": {},
   "outputs": [],
   "source": [
    "url = 'https://www.immobiliare.it/vendita-case/cefalu/?pag=1'"
   ]
  },
  {
   "cell_type": "code",
   "execution_count": null,
   "id": "b9386737-33dd-4d3d-865b-eb70ca9627c9",
   "metadata": {},
   "outputs": [],
   "source": [
    "def get_url():\n",
    "    return url"
   ]
  },
  {
   "cell_type": "code",
   "execution_count": null,
   "id": "f722778c-a337-4da0-bf89-d2c29d66330c",
   "metadata": {},
   "outputs": [],
   "source": [
    "def set_url():\n",
    "    pass"
   ]
  },
  {
   "cell_type": "code",
   "execution_count": 37,
   "id": "3a7be3ec-d231-4940-9365-751cfba2cd3f",
   "metadata": {},
   "outputs": [],
   "source": [
    "def get_new_url():\n",
    "    get_current_page = 0\n",
    "    global url \n",
    "    \n",
    "    page = requests.get(url)\n",
    "    soup = BeautifulSoup(page.content, \"html.parser\")\n",
    "    results = soup.find(\"div\", {\"class\": \"in-errorMessage__bg in-errorMessage__container\"})\n",
    "    \n",
    "    print(results)\n",
    "    if url != '':\n",
    "        get_current_page = int(url[52:len(url)])\n",
    "        url = (url[0:52]) + str(int(get_current_page) + 1)\n",
    "    print(url)"
   ]
  },
  {
   "cell_type": "code",
   "execution_count": 38,
   "id": "82e85140-c181-4a1f-8e50-0d49844d78df",
   "metadata": {},
   "outputs": [
    {
     "name": "stdout",
     "output_type": "stream",
     "text": [
      "None\n",
      "https://www.immobiliare.it/vendita-case/cefalu/?pag=2\n",
      "None\n",
      "https://www.immobiliare.it/vendita-case/cefalu/?pag=3\n",
      "None\n",
      "https://www.immobiliare.it/vendita-case/cefalu/?pag=4\n",
      "None\n",
      "https://www.immobiliare.it/vendita-case/cefalu/?pag=5\n",
      "None\n",
      "https://www.immobiliare.it/vendita-case/cefalu/?pag=6\n",
      "None\n",
      "https://www.immobiliare.it/vendita-case/cefalu/?pag=7\n",
      "None\n",
      "https://www.immobiliare.it/vendita-case/cefalu/?pag=8\n",
      "None\n",
      "https://www.immobiliare.it/vendita-case/cefalu/?pag=9\n",
      "<div class=\"in-errorMessage__bg in-errorMessage__container\"><div aria-live=\"assertive\" class=\"nd-alert nd-alert--warning in-errorMessage__alert in-errorMessage__title\" role=\"alert\">La pagina che stai cercando non è presente sul nostro sito o non è più disponibile.</div><p class=\"in-errorMessage__text\">Fortunatamente, se stai cercando casa, uffici, attività commerciali o terreni sei già sul sito giusto.</p><a class=\"nd-button nd-button--outline in-errorMessage__link\" href=\"https://www.immobiliare.it/\">inizia una ricerca</a></div>\n",
      "https://www.immobiliare.it/vendita-case/cefalu/?pag=10\n"
     ]
    }
   ],
   "source": [
    "\n",
    "for i in range(0, 9):\n",
    "    get_new_url()"
   ]
  },
  {
   "cell_type": "code",
   "execution_count": null,
   "id": "59fdc756-22e2-4c73-8778-144f18ed700e",
   "metadata": {},
   "outputs": [],
   "source": []
  },
  {
   "cell_type": "code",
   "execution_count": 39,
   "id": "d037e294-a649-4843-9027-4d50e80f5dc2",
   "metadata": {},
   "outputs": [],
   "source": [
    "str = \"https://www.immobiliare.it/vendita-case/cefalu/?pag=6\""
   ]
  },
  {
   "cell_type": "code",
   "execution_count": 41,
   "id": "f9f64e8d-8f51-4d78-a450-df5397bc177b",
   "metadata": {},
   "outputs": [],
   "source": [
    "substr = len(\"https://www.immobiliare.it/vendita-case/cefalu/?pag=\")"
   ]
  },
  {
   "cell_type": "code",
   "execution_count": 42,
   "id": "63a7a46c-52de-4ab8-93f2-0bba24708526",
   "metadata": {},
   "outputs": [
    {
     "data": {
      "text/plain": [
       "52"
      ]
     },
     "execution_count": 42,
     "metadata": {},
     "output_type": "execute_result"
    }
   ],
   "source": [
    "substr"
   ]
  },
  {
   "cell_type": "code",
   "execution_count": 43,
   "id": "280074ff-718c-4945-937c-0308b4b709cb",
   "metadata": {},
   "outputs": [
    {
     "data": {
      "text/plain": [
       "53"
      ]
     },
     "execution_count": 43,
     "metadata": {},
     "output_type": "execute_result"
    }
   ],
   "source": [
    "len(str)"
   ]
  },
  {
   "cell_type": "code",
   "execution_count": 44,
   "id": "6bdcdf84-22e7-4d12-b93e-0f05d488f054",
   "metadata": {},
   "outputs": [
    {
     "data": {
      "text/plain": [
       "'6'"
      ]
     },
     "execution_count": 44,
     "metadata": {},
     "output_type": "execute_result"
    }
   ],
   "source": [
    "str[substr:len(str)]"
   ]
  },
  {
   "cell_type": "code",
   "execution_count": null,
   "id": "ae6c4a37-b647-4b27-82d6-3cbd56494c01",
   "metadata": {},
   "outputs": [],
   "source": []
  }
 ],
 "metadata": {
  "kernelspec": {
   "display_name": "Python 3 (ipykernel)",
   "language": "python",
   "name": "python3"
  },
  "language_info": {
   "codemirror_mode": {
    "name": "ipython",
    "version": 3
   },
   "file_extension": ".py",
   "mimetype": "text/x-python",
   "name": "python",
   "nbconvert_exporter": "python",
   "pygments_lexer": "ipython3",
   "version": "3.9.15"
  }
 },
 "nbformat": 4,
 "nbformat_minor": 5
}
