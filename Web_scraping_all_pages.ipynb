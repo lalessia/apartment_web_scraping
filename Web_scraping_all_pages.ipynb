{
 "cells": [
  {
   "cell_type": "code",
   "execution_count": 3,
   "id": "a16c95b0-0a1a-46af-8c68-34f8ee6b1e35",
   "metadata": {},
   "outputs": [],
   "source": [
    "#from bs4 import BeautifulSoup\n",
    "#import pandas as pd\n",
    "#import requests"
   ]
  },
  {
   "cell_type": "code",
   "execution_count": 4,
   "id": "8d4c11a4-dd96-41bc-ae23-9b12b8d3b16f",
   "metadata": {},
   "outputs": [],
   "source": [
    "url = ''"
   ]
  },
  {
   "cell_type": "code",
   "execution_count": 5,
   "id": "3a7be3ec-d231-4940-9365-751cfba2cd3f",
   "metadata": {},
   "outputs": [
    {
     "name": "stdout",
     "output_type": "stream",
     "text": [
      "\n"
     ]
    }
   ],
   "source": [
    "print(url)\n",
    "def get_new_url():\n",
    "    global url \n",
    "    if url == '':\n",
    "        url = 'https://www.immobiliare.it/vendita-case/firenze/?pag=1'\n",
    "    else:\n",
    "        get_current_page = int(url[53:len(url)])\n",
    "        url = (url[0:53]) + str(get_current_page + 1)"
   ]
  },
  {
   "cell_type": "code",
   "execution_count": 6,
   "id": "82e85140-c181-4a1f-8e50-0d49844d78df",
   "metadata": {},
   "outputs": [
    {
     "name": "stdout",
     "output_type": "stream",
     "text": [
      "\n"
     ]
    }
   ],
   "source": [
    "print(url)\n",
    "get_new_url()"
   ]
  },
  {
   "cell_type": "code",
   "execution_count": null,
   "id": "cf0e4f01-dc19-4eb1-a09b-65163e621810",
   "metadata": {},
   "outputs": [],
   "source": []
  }
 ],
 "metadata": {
  "kernelspec": {
   "display_name": "Python 3 (ipykernel)",
   "language": "python",
   "name": "python3"
  },
  "language_info": {
   "codemirror_mode": {
    "name": "ipython",
    "version": 3
   },
   "file_extension": ".py",
   "mimetype": "text/x-python",
   "name": "python",
   "nbconvert_exporter": "python",
   "pygments_lexer": "ipython3",
   "version": "3.9.15"
  }
 },
 "nbformat": 4,
 "nbformat_minor": 5
}
